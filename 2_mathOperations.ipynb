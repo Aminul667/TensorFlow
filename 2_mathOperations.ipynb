{
 "cells": [
  {
   "cell_type": "code",
   "execution_count": 1,
   "metadata": {},
   "outputs": [
    {
     "name": "stdout",
     "output_type": "stream",
     "text": [
      "WARNING:tensorflow:From c:\\Users\\Rahat\\AppData\\Local\\Programs\\Python\\Python310\\lib\\site-packages\\keras\\src\\losses.py:2976: The name tf.losses.sparse_softmax_cross_entropy is deprecated. Please use tf.compat.v1.losses.sparse_softmax_cross_entropy instead.\n",
      "\n"
     ]
    }
   ],
   "source": [
    "import tensorflow as tf\n",
    "import numpy as np"
   ]
  },
  {
   "cell_type": "code",
   "execution_count": 5,
   "metadata": {},
   "outputs": [
    {
     "name": "stdout",
     "output_type": "stream",
     "text": [
      "tf.Tensor([2.5 6. ], shape=(2,), dtype=float32)\n"
     ]
    }
   ],
   "source": [
    "tensor_abs = tf.constant([-2.5, 6])\n",
    "print(tf.abs(tensor_abs))"
   ]
  },
  {
   "cell_type": "code",
   "execution_count": 6,
   "metadata": {},
   "outputs": [
    {
     "name": "stdout",
     "output_type": "stream",
     "text": [
      "tf.Tensor([4.58938994], shape=(1,), dtype=float64)\n"
     ]
    }
   ],
   "source": [
    "tensor_complex = tf.constant([-2.25 + 4j])\n",
    "print(tf.abs(tensor_complex))"
   ]
  },
  {
   "cell_type": "code",
   "execution_count": 23,
   "metadata": {},
   "outputs": [
    {
     "name": "stdout",
     "output_type": "stream",
     "text": [
      "tf.Tensor(2.0, shape=(), dtype=float32)\n"
     ]
    }
   ],
   "source": [
    "x = tf.constant([4.0])\n",
    "print(tf.sqrt(4.0))"
   ]
  },
  {
   "cell_type": "code",
   "execution_count": 27,
   "metadata": {},
   "outputs": [
    {
     "name": "stdout",
     "output_type": "stream",
     "text": [
      "tf.Tensor([ 4.  9. 16. 25.], shape=(4,), dtype=float32)\n",
      "tf.Tensor([2. 3. 4. 5.], shape=(4,), dtype=float32)\n"
     ]
    }
   ],
   "source": [
    "tensor_sqrt = tf.constant([4, 9, 16, 25], dtype=tf.float32)\n",
    "print(tensor_sqrt)\n",
    "print(tf.sqrt(tensor_sqrt))"
   ]
  },
  {
   "cell_type": "markdown",
   "metadata": {},
   "source": [
    "### mathematical operation (addition, substruction, multiplication, division)"
   ]
  },
  {
   "cell_type": "code",
   "execution_count": 29,
   "metadata": {},
   "outputs": [],
   "source": [
    "x = tf.constant([1, 2, 3, 4, 5], dtype=tf.int32)\n",
    "y = tf.constant([6, 7, 8, 9, 10], dtype=tf.int32)"
   ]
  },
  {
   "cell_type": "code",
   "execution_count": 31,
   "metadata": {},
   "outputs": [
    {
     "name": "stdout",
     "output_type": "stream",
     "text": [
      "Addition:  tf.Tensor([ 7  9 11 13 15], shape=(5,), dtype=int32)\n",
      "Substruction:  tf.Tensor([-5 -5 -5 -5 -5], shape=(5,), dtype=int32)\n",
      "Multiplication:  tf.Tensor([ 6 14 24 36 50], shape=(5,), dtype=int32)\n",
      "Division:  tf.Tensor([0.16666667 0.28571429 0.375      0.44444444 0.5       ], shape=(5,), dtype=float64)\n"
     ]
    }
   ],
   "source": [
    "print('Addition: ', tf.add(x, y))\n",
    "print('Substruction: ', tf.subtract(x, y))\n",
    "print('Multiplication: ', tf.multiply(x, y))\n",
    "print('Division: ', tf.divide(x, y))"
   ]
  },
  {
   "cell_type": "code",
   "execution_count": 34,
   "metadata": {},
   "outputs": [
    {
     "name": "stdout",
     "output_type": "stream",
     "text": [
      "Division Inf:  tf.Tensor([0.16666667 0.2857143         inf 0.44444445 0.5       ], shape=(5,), dtype=float32)\n",
      "Division no Inf:  tf.Tensor([0.16666667 0.2857143  0.         0.44444445 0.5       ], shape=(5,), dtype=float32)\n"
     ]
    }
   ],
   "source": [
    "x = tf.constant([1, 2, 3, 4, 5], dtype=tf.float32)\n",
    "y = tf.constant([6, 7, 0, 9, 10], dtype=tf.float32)\n",
    "\n",
    "print('Division Inf: ', tf.divide(x, y))\n",
    "print('Division no Inf: ', tf.math.divide_no_nan(x, y))"
   ]
  },
  {
   "cell_type": "markdown",
   "metadata": {},
   "source": [
    "#### Broadcast\n",
    "\n",
    "Stretched both of the tensors\n",
    "\n",
    "[1, 2, 3, 4, 5] to [[1, 2, 3, 4, 5], [1, 2, 3, 4, 5]] and\n",
    "\n",
    "[[6], [7]] to [[6, 6, 6, 6, 6], [7, 7, 7, 7, 7]]"
   ]
  },
  {
   "cell_type": "code",
   "execution_count": 35,
   "metadata": {},
   "outputs": [
    {
     "name": "stdout",
     "output_type": "stream",
     "text": [
      "Addition:  tf.Tensor(\n",
      "[[ 7  8  9 10 11]\n",
      " [ 8  9 10 11 12]], shape=(2, 5), dtype=int32)\n"
     ]
    }
   ],
   "source": [
    "x = tf.constant([1, 2, 3, 4, 5], dtype=tf.int32)\n",
    "y = tf.constant([[6], [7]], dtype=tf.int32)\n",
    "\n",
    "print('Addition: ', tf.add(x, y))"
   ]
  },
  {
   "cell_type": "code",
   "execution_count": 45,
   "metadata": {},
   "outputs": [
    {
     "name": "stdout",
     "output_type": "stream",
     "text": [
      "tf.Tensor(2, shape=(), dtype=int64)\n",
      "tf.Tensor(1, shape=(), dtype=int64)\n"
     ]
    }
   ],
   "source": [
    "tensor_argmax = tf.constant([100, 20, 300, 40, 50])\n",
    "\n",
    "print(tf.argmax(tensor_argmax)) # returns the position of max\n",
    "print(tf.argmin(tensor_argmax)) # returns the position of min"
   ]
  },
  {
   "cell_type": "code",
   "execution_count": 49,
   "metadata": {},
   "outputs": [
    {
     "name": "stdout",
     "output_type": "stream",
     "text": [
      "tf.Tensor([1 0 1 0 0], shape=(5,), dtype=int64)\n",
      "tf.Tensor([0 1 0 1 1], shape=(5,), dtype=int64)\n"
     ]
    }
   ],
   "source": [
    "tensor_argmax = tf.constant(\n",
    "    [\n",
    "        [10, 20, 30, 40, 50],\n",
    "        [33, 4, 200, 30, -20]\n",
    "    ]\n",
    ")\n",
    "\n",
    "print(tf.argmax(tensor_argmax, axis=0)) # compares each columns and returns a position\n",
    "print(tf.argmin(tensor_argmax, axis=0))"
   ]
  },
  {
   "cell_type": "code",
   "execution_count": 50,
   "metadata": {},
   "outputs": [
    {
     "name": "stdout",
     "output_type": "stream",
     "text": [
      "tf.Tensor([4 2], shape=(2,), dtype=int64)\n",
      "tf.Tensor([0 4], shape=(2,), dtype=int64)\n"
     ]
    }
   ],
   "source": [
    "tensor_argmax = tf.constant(\n",
    "    [\n",
    "        [10, 20, 30, 40, 50],\n",
    "        [33, 4, 200, 30, -20]\n",
    "    ]\n",
    ")\n",
    "\n",
    "print(tf.argmax(tensor_argmax, axis=1)) # compares each rows and returns a position\n",
    "print(tf.argmin(tensor_argmax, axis=1))"
   ]
  },
  {
   "cell_type": "code",
   "execution_count": 52,
   "metadata": {},
   "outputs": [
    {
     "name": "stdout",
     "output_type": "stream",
     "text": [
      "tf.Tensor([False False  True False  True], shape=(5,), dtype=bool)\n"
     ]
    }
   ],
   "source": [
    "x = tf.constant([1, 2, 3, 4, 10], dtype=tf.float32)\n",
    "y = tf.constant([6, 7, 3, 9, 10], dtype=tf.float32)\n",
    "\n",
    "print(tf.equal(x, y))"
   ]
  },
  {
   "cell_type": "code",
   "execution_count": 54,
   "metadata": {},
   "outputs": [
    {
     "name": "stdout",
     "output_type": "stream",
     "text": [
      "tf.Tensor(\n",
      "[[  1   4  27  64 100]\n",
      " [ 36  49  27 729 100]], shape=(2, 5), dtype=int32)\n"
     ]
    }
   ],
   "source": [
    "tesnor_pow = tf.constant(\n",
    "    [\n",
    "        [1, 2, 3, 4, 10],\n",
    "        [6, 7, 3, 9, 10]\n",
    "    ]\n",
    ")\n",
    "x = tf.constant([2, 2, 3, 3, 2])\n",
    "print(tf.pow(tesnor_pow, x))"
   ]
  },
  {
   "cell_type": "code",
   "execution_count": 11,
   "metadata": {},
   "outputs": [
    {
     "name": "stdout",
     "output_type": "stream",
     "text": [
      "tf.Tensor(\n",
      "[[ 1.  2.  3.  4.  5.]\n",
      " [ 4.  2.  6.  3.  8.]\n",
      " [ 2.  4.  8.  4.  1.]\n",
      " [10. 20. 44. 21. 54.]], shape=(4, 5), dtype=float32)\n"
     ]
    }
   ],
   "source": [
    "tensor_two_d = tf.constant(\n",
    "    [\n",
    "        [1, 2, 3, 4, 5],\n",
    "        [4, 2, 6, 3, 8],\n",
    "        [2, 4, 8, 4, 1],\n",
    "        [10, 20, 44, 21, 54]\n",
    "    ],\n",
    "    dtype=tf.float32\n",
    ")\n",
    "\n",
    "print(tensor_two_d)"
   ]
  },
  {
   "cell_type": "code",
   "execution_count": 12,
   "metadata": {},
   "outputs": [
    {
     "name": "stdout",
     "output_type": "stream",
     "text": [
      "tf.Tensor(206.0, shape=(), dtype=float32)\n",
      "tf.Tensor(54.0, shape=(), dtype=float32)\n",
      "tf.Tensor(1.0, shape=(), dtype=float32)\n",
      "tf.Tensor(10.3, shape=(), dtype=float32)\n",
      "tf.Tensor(14.064494, shape=(), dtype=float32)\n"
     ]
    }
   ],
   "source": [
    "print(tf.reduce_sum(tensor_two_d))\n",
    "print(tf.reduce_max(tensor_two_d))\n",
    "print(tf.reduce_min(tensor_two_d))\n",
    "print(tf.reduce_mean(tensor_two_d))\n",
    "print(tf.math.reduce_std(tensor_two_d))"
   ]
  },
  {
   "cell_type": "code",
   "execution_count": 7,
   "metadata": {},
   "outputs": [
    {
     "name": "stdout",
     "output_type": "stream",
     "text": [
      "tf.Tensor([17 28 61 32 68], shape=(5,), dtype=int32)\n",
      "tf.Tensor([ 15  23  19 149], shape=(4,), dtype=int32)\n"
     ]
    }
   ],
   "source": [
    "print(tf.reduce_sum(tensor_two_d, axis=0)) # columns\n",
    "print(tf.reduce_sum(tensor_two_d, axis=1)) # rows"
   ]
  },
  {
   "cell_type": "code",
   "execution_count": 14,
   "metadata": {},
   "outputs": [
    {
     "name": "stdout",
     "output_type": "stream",
     "text": [
      "TopKV2(values=<tf.Tensor: shape=(4, 1), dtype=float32, numpy=\n",
      "array([[ 5.],\n",
      "       [ 8.],\n",
      "       [ 8.],\n",
      "       [54.]], dtype=float32)>, indices=<tf.Tensor: shape=(4, 1), dtype=int32, numpy=\n",
      "array([[4],\n",
      "       [4],\n",
      "       [2],\n",
      "       [4]])>)\n"
     ]
    }
   ],
   "source": [
    "print(tf.math.top_k(tensor_two_d)) # returns maximum one value from each column and their indexes"
   ]
  },
  {
   "cell_type": "code",
   "execution_count": 15,
   "metadata": {},
   "outputs": [
    {
     "name": "stdout",
     "output_type": "stream",
     "text": [
      "TopKV2(values=<tf.Tensor: shape=(4, 2), dtype=float32, numpy=\n",
      "array([[ 5.,  4.],\n",
      "       [ 8.,  6.],\n",
      "       [ 8.,  4.],\n",
      "       [54., 44.]], dtype=float32)>, indices=<tf.Tensor: shape=(4, 2), dtype=int32, numpy=\n",
      "array([[4, 3],\n",
      "       [4, 2],\n",
      "       [2, 1],\n",
      "       [4, 2]])>)\n"
     ]
    }
   ],
   "source": [
    "print(tf.math.top_k(tensor_two_d, k=2))"
   ]
  },
  {
   "cell_type": "code",
   "execution_count": null,
   "metadata": {},
   "outputs": [],
   "source": []
  }
 ],
 "metadata": {
  "kernelspec": {
   "display_name": "Python 3",
   "language": "python",
   "name": "python3"
  },
  "language_info": {
   "codemirror_mode": {
    "name": "ipython",
    "version": 3
   },
   "file_extension": ".py",
   "mimetype": "text/x-python",
   "name": "python",
   "nbconvert_exporter": "python",
   "pygments_lexer": "ipython3",
   "version": "3.10.0"
  }
 },
 "nbformat": 4,
 "nbformat_minor": 2
}
