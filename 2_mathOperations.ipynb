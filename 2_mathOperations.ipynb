{
 "cells": [
  {
   "cell_type": "code",
   "execution_count": 1,
   "metadata": {},
   "outputs": [
    {
     "name": "stdout",
     "output_type": "stream",
     "text": [
      "WARNING:tensorflow:From c:\\Users\\Rahat\\AppData\\Local\\Programs\\Python\\Python310\\lib\\site-packages\\keras\\src\\losses.py:2976: The name tf.losses.sparse_softmax_cross_entropy is deprecated. Please use tf.compat.v1.losses.sparse_softmax_cross_entropy instead.\n",
      "\n"
     ]
    }
   ],
   "source": [
    "import tensorflow as tf\n",
    "import numpy as np"
   ]
  },
  {
   "cell_type": "code",
   "execution_count": 5,
   "metadata": {},
   "outputs": [
    {
     "name": "stdout",
     "output_type": "stream",
     "text": [
      "tf.Tensor([2.5 6. ], shape=(2,), dtype=float32)\n"
     ]
    }
   ],
   "source": [
    "tensor_abs = tf.constant([-2.5, 6])\n",
    "print(tf.abs(tensor_abs))"
   ]
  },
  {
   "cell_type": "code",
   "execution_count": 6,
   "metadata": {},
   "outputs": [
    {
     "name": "stdout",
     "output_type": "stream",
     "text": [
      "tf.Tensor([4.58938994], shape=(1,), dtype=float64)\n"
     ]
    }
   ],
   "source": [
    "tensor_complex = tf.constant([-2.25 + 4j])\n",
    "print(tf.abs(tensor_complex))"
   ]
  },
  {
   "cell_type": "code",
   "execution_count": 23,
   "metadata": {},
   "outputs": [
    {
     "name": "stdout",
     "output_type": "stream",
     "text": [
      "tf.Tensor(2.0, shape=(), dtype=float32)\n"
     ]
    }
   ],
   "source": [
    "x = tf.constant([4.0])\n",
    "print(tf.sqrt(4.0))"
   ]
  },
  {
   "cell_type": "code",
   "execution_count": 27,
   "metadata": {},
   "outputs": [
    {
     "name": "stdout",
     "output_type": "stream",
     "text": [
      "tf.Tensor([ 4.  9. 16. 25.], shape=(4,), dtype=float32)\n",
      "tf.Tensor([2. 3. 4. 5.], shape=(4,), dtype=float32)\n"
     ]
    }
   ],
   "source": [
    "tensor_sqrt = tf.constant([4, 9, 16, 25], dtype=tf.float32)\n",
    "print(tensor_sqrt)\n",
    "print(tf.sqrt(tensor_sqrt))"
   ]
  },
  {
   "cell_type": "markdown",
   "metadata": {},
   "source": [
    "### mathematical operation (addition, substruction, multiplication, division)"
   ]
  },
  {
   "cell_type": "code",
   "execution_count": 29,
   "metadata": {},
   "outputs": [],
   "source": [
    "x = tf.constant([1, 2, 3, 4, 5], dtype=tf.int32)\n",
    "y = tf.constant([6, 7, 8, 9, 10], dtype=tf.int32)"
   ]
  },
  {
   "cell_type": "code",
   "execution_count": 31,
   "metadata": {},
   "outputs": [
    {
     "name": "stdout",
     "output_type": "stream",
     "text": [
      "Addition:  tf.Tensor([ 7  9 11 13 15], shape=(5,), dtype=int32)\n",
      "Substruction:  tf.Tensor([-5 -5 -5 -5 -5], shape=(5,), dtype=int32)\n",
      "Multiplication:  tf.Tensor([ 6 14 24 36 50], shape=(5,), dtype=int32)\n",
      "Division:  tf.Tensor([0.16666667 0.28571429 0.375      0.44444444 0.5       ], shape=(5,), dtype=float64)\n"
     ]
    }
   ],
   "source": [
    "print('Addition: ', tf.add(x, y))\n",
    "print('Substruction: ', tf.subtract(x, y))\n",
    "print('Multiplication: ', tf.multiply(x, y))\n",
    "print('Division: ', tf.divide(x, y))"
   ]
  },
  {
   "cell_type": "code",
   "execution_count": 34,
   "metadata": {},
   "outputs": [
    {
     "name": "stdout",
     "output_type": "stream",
     "text": [
      "Division Inf:  tf.Tensor([0.16666667 0.2857143         inf 0.44444445 0.5       ], shape=(5,), dtype=float32)\n",
      "Division no Inf:  tf.Tensor([0.16666667 0.2857143  0.         0.44444445 0.5       ], shape=(5,), dtype=float32)\n"
     ]
    }
   ],
   "source": [
    "x = tf.constant([1, 2, 3, 4, 5], dtype=tf.float32)\n",
    "y = tf.constant([6, 7, 0, 9, 10], dtype=tf.float32)\n",
    "\n",
    "print('Division Inf: ', tf.divide(x, y))\n",
    "print('Division no Inf: ', tf.math.divide_no_nan(x, y))"
   ]
  },
  {
   "cell_type": "markdown",
   "metadata": {},
   "source": [
    "#### Broadcast"
   ]
  },
  {
   "cell_type": "code",
   "execution_count": 35,
   "metadata": {},
   "outputs": [
    {
     "name": "stdout",
     "output_type": "stream",
     "text": [
      "Addition:  tf.Tensor(\n",
      "[[ 7  8  9 10 11]\n",
      " [ 8  9 10 11 12]], shape=(2, 5), dtype=int32)\n"
     ]
    }
   ],
   "source": [
    "x = tf.constant([1, 2, 3, 4, 5], dtype=tf.int32)\n",
    "y = tf.constant([[6], [7]], dtype=tf.int32)\n",
    "\n",
    "print('Addition: ', tf.add(x, y))"
   ]
  },
  {
   "cell_type": "code",
   "execution_count": null,
   "metadata": {},
   "outputs": [],
   "source": []
  }
 ],
 "metadata": {
  "kernelspec": {
   "display_name": "Python 3",
   "language": "python",
   "name": "python3"
  },
  "language_info": {
   "codemirror_mode": {
    "name": "ipython",
    "version": 3
   },
   "file_extension": ".py",
   "mimetype": "text/x-python",
   "name": "python",
   "nbconvert_exporter": "python",
   "pygments_lexer": "ipython3",
   "version": "3.10.0"
  }
 },
 "nbformat": 4,
 "nbformat_minor": 2
}
