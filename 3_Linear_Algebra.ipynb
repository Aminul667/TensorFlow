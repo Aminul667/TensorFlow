{
 "cells": [
  {
   "cell_type": "code",
   "execution_count": 1,
   "metadata": {},
   "outputs": [
    {
     "name": "stdout",
     "output_type": "stream",
     "text": [
      "WARNING:tensorflow:From c:\\Users\\Rahat\\AppData\\Local\\Programs\\Python\\Python310\\lib\\site-packages\\keras\\src\\losses.py:2976: The name tf.losses.sparse_softmax_cross_entropy is deprecated. Please use tf.compat.v1.losses.sparse_softmax_cross_entropy instead.\n",
      "\n"
     ]
    }
   ],
   "source": [
    "import tensorflow as tf \n",
    "import numpy as np"
   ]
  },
  {
   "cell_type": "markdown",
   "metadata": {},
   "source": [
    "## Linear Algebra"
   ]
  },
  {
   "cell_type": "markdown",
   "metadata": {},
   "source": [
    "#### Matrix Multiplication"
   ]
  },
  {
   "cell_type": "code",
   "execution_count": 3,
   "metadata": {},
   "outputs": [
    {
     "name": "stdout",
     "output_type": "stream",
     "text": [
      "tf.Tensor(\n",
      "[[ 34  64 130]\n",
      " [ 54 100 162]], shape=(2, 3), dtype=int32)\n"
     ]
    }
   ],
   "source": [
    "x1 = tf.constant(\n",
    "    [\n",
    "        [1, 2, 3],\n",
    "        [3, 4, 2]\n",
    "    ]\n",
    ")\n",
    "x2 = tf.constant(\n",
    "    [\n",
    "        [10, 20, 30],\n",
    "        [3, 4, 2],\n",
    "        [6, 12, 32]\n",
    "    ]\n",
    ")\n",
    "\n",
    "matrixMulti = tf.linalg.matmul(\n",
    "    x1,\n",
    "    x2,\n",
    "    transpose_a=False,\n",
    "    transpose_b=False,\n",
    "    adjoint_a=False,\n",
    "    adjoint_b=False,\n",
    "    a_is_sparse=False,\n",
    "    b_is_sparse=False,\n",
    "    output_type=None,\n",
    "    name=None\n",
    ")\n",
    "\n",
    "print(matrixMulti)"
   ]
  },
  {
   "cell_type": "code",
   "execution_count": 4,
   "metadata": {},
   "outputs": [
    {
     "name": "stdout",
     "output_type": "stream",
     "text": [
      "tf.Tensor(\n",
      "[[ 34  64 130]\n",
      " [ 54 100 162]], shape=(2, 3), dtype=int32)\n"
     ]
    }
   ],
   "source": [
    "print(x1@x2)"
   ]
  },
  {
   "cell_type": "code",
   "execution_count": 6,
   "metadata": {},
   "outputs": [
    {
     "name": "stdout",
     "output_type": "stream",
     "text": [
      "tf.Tensor(\n",
      "[[1 3]\n",
      " [2 4]\n",
      " [3 2]], shape=(3, 2), dtype=int32)\n"
     ]
    }
   ],
   "source": [
    "transpose = tf.transpose(x1)\n",
    "print(transpose)"
   ]
  },
  {
   "cell_type": "code",
   "execution_count": 4,
   "metadata": {},
   "outputs": [
    {
     "name": "stdout",
     "output_type": "stream",
     "text": [
      "tf.Tensor(\n",
      "[[[ 1.  2.]\n",
      "  [ 4.  3.]]\n",
      "\n",
      " [[12.  4.]\n",
      "  [ 2. 76.]]\n",
      "\n",
      " [[ 2.  1.]\n",
      "  [ 3. 78.]]], shape=(3, 2, 2), dtype=float32)\n",
      "tf.Tensor(\n",
      "[[[ 1.  2.  2.]\n",
      "  [12. 43. 22.]]\n",
      "\n",
      " [[22. 19.  3.]\n",
      "  [ 2. 11. 45.]]\n",
      "\n",
      " [[ 2.  1. 12.]\n",
      "  [ 3. 33. 82.]]], shape=(3, 2, 3), dtype=float32)\n"
     ]
    }
   ],
   "source": [
    "x1 = tf.constant(\n",
    "    [\n",
    "        [\n",
    "            [1, 2],\n",
    "            [4, 3]\n",
    "        ],\n",
    "        [\n",
    "            [12, 4],\n",
    "            [2, 76]\n",
    "        ],\n",
    "        [\n",
    "            [2, 1],\n",
    "            [3, 78]\n",
    "        ]\n",
    "    ],\n",
    "    dtype=tf.float32\n",
    ")\n",
    "\n",
    "x2 = tf.constant(\n",
    "    [\n",
    "        [\n",
    "            [1, 2, 2],\n",
    "            [12, 43, 22]\n",
    "        ],\n",
    "        [\n",
    "            [22, 19, 3],\n",
    "            [2, 11, 45]\n",
    "        ],\n",
    "        [\n",
    "            [2, 1, 12],\n",
    "            [3, 33, 82]\n",
    "        ]\n",
    "    ],\n",
    "    dtype=tf.float32\n",
    ")\n",
    "\n",
    "print(x1)\n",
    "print(x2)"
   ]
  },
  {
   "cell_type": "code",
   "execution_count": 5,
   "metadata": {},
   "outputs": [
    {
     "name": "stdout",
     "output_type": "stream",
     "text": [
      "tf.Tensor(\n",
      "[[[  25.   88.   46.]\n",
      "  [  40.  137.   74.]]\n",
      "\n",
      " [[ 272.  272.  216.]\n",
      "  [ 196.  874. 3426.]]\n",
      "\n",
      " [[   7.   35.  106.]\n",
      "  [ 240. 2577. 6432.]]], shape=(3, 2, 3), dtype=float32)\n"
     ]
    }
   ],
   "source": [
    "tensor_multiplication = tf.linalg.matmul(x1, x2)\n",
    "print(tensor_multiplication)"
   ]
  },
  {
   "cell_type": "code",
   "execution_count": 3,
   "metadata": {},
   "outputs": [
    {
     "name": "stdout",
     "output_type": "stream",
     "text": [
      "tf.Tensor(\n",
      "[[ 0  1  2  3]\n",
      " [-1  0  1  2]\n",
      " [-2 -1  0  1]\n",
      " [-3 -2 -1  0]], shape=(4, 4), dtype=int32)\n"
     ]
    }
   ],
   "source": [
    "tensor_band = tf.constant(\n",
    "    [\n",
    "        [0,  1,  2, 3],\n",
    "        [-1,  0,  1, 2],\n",
    "        [-2, -1,  0, 1],\n",
    "        [-3, -2, -1, 0]\n",
    "    ]\n",
    ")\n",
    "print(tensor_band)"
   ]
  },
  {
   "cell_type": "code",
   "execution_count": 5,
   "metadata": {},
   "outputs": [],
   "source": [
    "upper = tf.linalg.band_part(tensor_band, 0, -1)  # Upper triangular part.\n",
    "lower = tf.linalg.band_part(tensor_band, -1, 0)  # Lower triangular part.\n",
    "diagonal = tf.linalg.band_part(tensor_band, 0, 0)  # Diagonal."
   ]
  },
  {
   "cell_type": "code",
   "execution_count": 8,
   "metadata": {},
   "outputs": [
    {
     "name": "stdout",
     "output_type": "stream",
     "text": [
      "Upper:  tf.Tensor(\n",
      "[[0 1 2 3]\n",
      " [0 0 1 2]\n",
      " [0 0 0 1]\n",
      " [0 0 0 0]], shape=(4, 4), dtype=int32)\n",
      "Lower:  tf.Tensor(\n",
      "[[ 0  0  0  0]\n",
      " [-1  0  0  0]\n",
      " [-2 -1  0  0]\n",
      " [-3 -2 -1  0]], shape=(4, 4), dtype=int32)\n",
      "Diagonal:  tf.Tensor(\n",
      "[[0 0 0 0]\n",
      " [0 0 0 0]\n",
      " [0 0 0 0]\n",
      " [0 0 0 0]], shape=(4, 4), dtype=int32)\n"
     ]
    }
   ],
   "source": [
    "print('Upper: ', upper)\n",
    "print('Lower: ', lower)\n",
    "print('Diagonal: ', diagonal)"
   ]
  },
  {
   "cell_type": "code",
   "execution_count": 12,
   "metadata": {},
   "outputs": [
    {
     "name": "stdout",
     "output_type": "stream",
     "text": [
      "tf.Tensor(\n",
      "[[ 3.6153831   0.36538446 -0.6153844 ]\n",
      " [-5.9999976  -0.49999973  0.9999995 ]\n",
      " [-0.03846148 -0.03846153  0.03846153]], shape=(3, 3), dtype=float32)\n"
     ]
    }
   ],
   "source": [
    "tensor_inv = tf.constant(\n",
    "    [\n",
    "        [2, 1, 6],\n",
    "        [20, 12, 8],\n",
    "        [22, 13, 40]\n",
    "    ],\n",
    "    dtype=tf.float32\n",
    ")\n",
    "\n",
    "inverse = tf.linalg.inv(tensor_inv)\n",
    "print(inverse)"
   ]
  },
  {
   "cell_type": "code",
   "execution_count": 7,
   "metadata": {},
   "outputs": [
    {
     "name": "stdout",
     "output_type": "stream",
     "text": [
      "Matrix A: \n",
      "[[2. 3.]\n",
      " [4. 5.]\n",
      " [6. 7.]]\n",
      "\n"
     ]
    }
   ],
   "source": [
    "svd_matrix_A = tf.constant(\n",
    "    [\n",
    "        [2, 3],\n",
    "        [4, 5],\n",
    "        [6, 7]\n",
    "    ],\n",
    "    dtype=tf.float32\n",
    ")\n",
    "print(f'Matrix A: \\n{svd_matrix_A}\\n')"
   ]
  },
  {
   "cell_type": "code",
   "execution_count": 6,
   "metadata": {},
   "outputs": [
    {
     "name": "stdout",
     "output_type": "stream",
     "text": [
      "Diagonal D: \n",
      "[11.782492    0.41578525] \n",
      "\n",
      "Matrix U: \n",
      "[[ 0.30449855 -0.86058956  0.40824753]\n",
      " [ 0.54340035 -0.19506174 -0.81649673]\n",
      " [ 0.78230214  0.47046405  0.40824872]] \n",
      "\n",
      "Matrix V^T: \n",
      "[[ 0.63453555  0.7728936 ]\n",
      " [ 0.7728936  -0.63453555]]\n"
     ]
    }
   ],
   "source": [
    "# Using tf.linalg.svd to calculate the singular value decomposition where d: Matrix D, u: Matrix U and v: Matrix V\n",
    "\n",
    "d, u, v = tf.linalg.svd(svd_matrix_A, full_matrices=True, compute_uv=True)\n",
    "print(f'Diagonal D: \\n{d} \\n\\nMatrix U: \\n{u} \\n\\nMatrix V^T: \\n{v}')"
   ]
  },
  {
   "cell_type": "code",
   "execution_count": null,
   "metadata": {},
   "outputs": [],
   "source": []
  }
 ],
 "metadata": {
  "kernelspec": {
   "display_name": "Python 3",
   "language": "python",
   "name": "python3"
  },
  "language_info": {
   "codemirror_mode": {
    "name": "ipython",
    "version": 3
   },
   "file_extension": ".py",
   "mimetype": "text/x-python",
   "name": "python",
   "nbconvert_exporter": "python",
   "pygments_lexer": "ipython3",
   "version": "3.10.0"
  }
 },
 "nbformat": 4,
 "nbformat_minor": 2
}
