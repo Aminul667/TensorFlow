{
 "cells": [
  {
   "cell_type": "code",
   "execution_count": 1,
   "metadata": {},
   "outputs": [
    {
     "name": "stdout",
     "output_type": "stream",
     "text": [
      "WARNING:tensorflow:From c:\\Users\\Rahat\\AppData\\Local\\Programs\\Python\\Python310\\lib\\site-packages\\keras\\src\\losses.py:2976: The name tf.losses.sparse_softmax_cross_entropy is deprecated. Please use tf.compat.v1.losses.sparse_softmax_cross_entropy instead.\n",
      "\n"
     ]
    }
   ],
   "source": [
    "import tensorflow as tf"
   ]
  },
  {
   "cell_type": "markdown",
   "metadata": {},
   "source": [
    "## Tensors"
   ]
  },
  {
   "cell_type": "code",
   "execution_count": 2,
   "metadata": {},
   "outputs": [
    {
     "name": "stdout",
     "output_type": "stream",
     "text": [
      "tf.Tensor(10, shape=(), dtype=int32)\n"
     ]
    }
   ],
   "source": [
    "tensor_zero_d = tf.constant(10)\n",
    "print(tensor_zero_d)"
   ]
  },
  {
   "cell_type": "code",
   "execution_count": 3,
   "metadata": {},
   "outputs": [
    {
     "name": "stdout",
     "output_type": "stream",
     "text": [
      "tf.Tensor([1 2 3 4 5], shape=(5,), dtype=int32)\n"
     ]
    }
   ],
   "source": [
    "tensor_one_d = tf.constant([1, 2, 3, 4, 5])\n",
    "print(tensor_one_d)"
   ]
  },
  {
   "cell_type": "code",
   "execution_count": 5,
   "metadata": {},
   "outputs": [
    {
     "name": "stdout",
     "output_type": "stream",
     "text": [
      "tf.Tensor(\n",
      "[[  1   2   3   4]\n",
      " [ 10  20  30  40]\n",
      " [100 200 300 400]], shape=(3, 4), dtype=int32)\n"
     ]
    }
   ],
   "source": [
    "two_d = [\n",
    "    [1, 2, 3, 4],\n",
    "    [10, 20, 30, 40],\n",
    "    [100, 200, 300, 400]\n",
    "]\n",
    "tensor_two_d = tf.constant(two_d)\n",
    "print(tensor_two_d)"
   ]
  },
  {
   "cell_type": "code",
   "execution_count": 7,
   "metadata": {},
   "outputs": [
    {
     "name": "stdout",
     "output_type": "stream",
     "text": [
      "tf.Tensor(\n",
      "[[[  1.   2.   3.   4.]\n",
      "  [ 10.  20.  30.  40.]\n",
      "  [100. 200. 300. 400.]]\n",
      "\n",
      " [[  5.   6.   7.   8.]\n",
      "  [ 50.  60.  70.  80.]\n",
      "  [500. 600. 700. 800.]]], shape=(2, 3, 4), dtype=float32)\n"
     ]
    }
   ],
   "source": [
    "three_d = [\n",
    "    [\n",
    "        [1, 2, 3, 4],\n",
    "        [10, 20, 30, 40],\n",
    "        [100, 200, 300, 400]\n",
    "    ],\n",
    "    [\n",
    "        [5, 6, 7, 8],\n",
    "        [50, 60, 70, 80],\n",
    "        [500, 600, 700, 800.]\n",
    "    ]\n",
    "]\n",
    "tensor_three_d = tf.constant(three_d)\n",
    "print(tensor_three_d)"
   ]
  },
  {
   "cell_type": "code",
   "execution_count": 8,
   "metadata": {},
   "outputs": [
    {
     "name": "stdout",
     "output_type": "stream",
     "text": [
      "()\n",
      "(5,)\n",
      "(3, 4)\n",
      "(2, 3, 4)\n"
     ]
    }
   ],
   "source": [
    "print(tensor_zero_d.shape)\n",
    "print(tensor_one_d.shape)\n",
    "print(tensor_two_d.shape)\n",
    "print(tensor_three_d.shape)"
   ]
  },
  {
   "cell_type": "code",
   "execution_count": 13,
   "metadata": {},
   "outputs": [
    {
     "name": "stdout",
     "output_type": "stream",
     "text": [
      "tf.Tensor(\n",
      "[[[[  1.   2.   3.   4.]\n",
      "   [ 10.  20.  30.  40.]\n",
      "   [100. 200. 300. 400.]]\n",
      "\n",
      "  [[  5.   6.   7.   8.]\n",
      "   [ 50.  60.  70.  80.]\n",
      "   [500. 600. 700. 800.]]]\n",
      "\n",
      "\n",
      " [[[ 14.   3.  34.  45.]\n",
      "   [ 10.  20.  32.  43.]\n",
      "   [100.  22. 330. 400.]]\n",
      "\n",
      "  [[  5.   6.   7.   8.]\n",
      "   [ 50.  60.   3.  80.]\n",
      "   [500. 600. 730. 820.]]]\n",
      "\n",
      "\n",
      " [[[ 14.   3.  34.  45.]\n",
      "   [ 10.  20.  32.  43.]\n",
      "   [100.  22. 330. 400.]]\n",
      "\n",
      "  [[  5.   6.   7.   8.]\n",
      "   [ 50.  60.   3.  80.]\n",
      "   [500. 600. 730. 820.]]]], shape=(3, 2, 3, 4), dtype=float32)\n"
     ]
    }
   ],
   "source": [
    "four_d = [\n",
    "    [\n",
    "        [\n",
    "            [1, 2, 3, 4],\n",
    "            [10, 20, 30, 40],\n",
    "            [100, 200, 300, 400]\n",
    "        ],\n",
    "        [\n",
    "            [5, 6, 7, 8],\n",
    "            [50, 60, 70, 80],\n",
    "            [500, 600, 700, 800]\n",
    "        ]\n",
    "    ],\n",
    "    [\n",
    "        [\n",
    "            [14, 3, 34, 45],\n",
    "            [10, 20, 32, 43],\n",
    "            [100, 22, 330, 400]\n",
    "        ],\n",
    "        [\n",
    "            [5, 6, 7, 8],\n",
    "            [50, 60, 3, 80],\n",
    "            [500, 600, 730, 820]\n",
    "        ]\n",
    "    ],\n",
    "    [\n",
    "        [\n",
    "            [14, 3, 34, 45],\n",
    "            [10, 20, 32, 43],\n",
    "            [100, 22, 330, 400]\n",
    "        ],\n",
    "        [\n",
    "            [5, 6, 7, 8],\n",
    "            [50, 60, 3, 80],\n",
    "            [500, 600, 730, 820]\n",
    "        ]\n",
    "    ],\n",
    "]\n",
    "\n",
    "tensor_four_d = tf.constant(four_d, dtype=tf.float32)\n",
    "print(tensor_four_d)"
   ]
  },
  {
   "cell_type": "code",
   "execution_count": null,
   "metadata": {},
   "outputs": [],
   "source": []
  }
 ],
 "metadata": {
  "kernelspec": {
   "display_name": "Python 3",
   "language": "python",
   "name": "python3"
  },
  "language_info": {
   "codemirror_mode": {
    "name": "ipython",
    "version": 3
   },
   "file_extension": ".py",
   "mimetype": "text/x-python",
   "name": "python",
   "nbconvert_exporter": "python",
   "pygments_lexer": "ipython3",
   "version": "3.10.0"
  }
 },
 "nbformat": 4,
 "nbformat_minor": 2
}
