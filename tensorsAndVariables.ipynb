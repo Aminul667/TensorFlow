{
 "cells": [
  {
   "cell_type": "code",
   "execution_count": 1,
   "metadata": {},
   "outputs": [
    {
     "name": "stdout",
     "output_type": "stream",
     "text": [
      "WARNING:tensorflow:From c:\\Users\\Rahat\\AppData\\Local\\Programs\\Python\\Python310\\lib\\site-packages\\keras\\src\\losses.py:2976: The name tf.losses.sparse_softmax_cross_entropy is deprecated. Please use tf.compat.v1.losses.sparse_softmax_cross_entropy instead.\n",
      "\n"
     ]
    }
   ],
   "source": [
    "import tensorflow as tf\n",
    "import numpy as np"
   ]
  },
  {
   "cell_type": "markdown",
   "metadata": {},
   "source": [
    "## Tensors"
   ]
  },
  {
   "cell_type": "code",
   "execution_count": 2,
   "metadata": {},
   "outputs": [
    {
     "name": "stdout",
     "output_type": "stream",
     "text": [
      "tf.Tensor(10, shape=(), dtype=int32)\n"
     ]
    }
   ],
   "source": [
    "tensor_zero_d = tf.constant(10)\n",
    "print(tensor_zero_d)"
   ]
  },
  {
   "cell_type": "code",
   "execution_count": 3,
   "metadata": {},
   "outputs": [
    {
     "name": "stdout",
     "output_type": "stream",
     "text": [
      "tf.Tensor([1 2 3 4 5], shape=(5,), dtype=int32)\n"
     ]
    }
   ],
   "source": [
    "tensor_one_d = tf.constant([1, 2, 3, 4, 5])\n",
    "print(tensor_one_d)"
   ]
  },
  {
   "cell_type": "code",
   "execution_count": 5,
   "metadata": {},
   "outputs": [
    {
     "name": "stdout",
     "output_type": "stream",
     "text": [
      "tf.Tensor(\n",
      "[[  1   2   3   4]\n",
      " [ 10  20  30  40]\n",
      " [100 200 300 400]], shape=(3, 4), dtype=int32)\n"
     ]
    }
   ],
   "source": [
    "two_d = [\n",
    "    [1, 2, 3, 4],\n",
    "    [10, 20, 30, 40],\n",
    "    [100, 200, 300, 400]\n",
    "]\n",
    "tensor_two_d = tf.constant(two_d)\n",
    "print(tensor_two_d)"
   ]
  },
  {
   "cell_type": "code",
   "execution_count": 7,
   "metadata": {},
   "outputs": [
    {
     "name": "stdout",
     "output_type": "stream",
     "text": [
      "tf.Tensor(\n",
      "[[[  1.   2.   3.   4.]\n",
      "  [ 10.  20.  30.  40.]\n",
      "  [100. 200. 300. 400.]]\n",
      "\n",
      " [[  5.   6.   7.   8.]\n",
      "  [ 50.  60.  70.  80.]\n",
      "  [500. 600. 700. 800.]]], shape=(2, 3, 4), dtype=float32)\n"
     ]
    }
   ],
   "source": [
    "three_d = [\n",
    "    [\n",
    "        [1, 2, 3, 4],\n",
    "        [10, 20, 30, 40],\n",
    "        [100, 200, 300, 400]\n",
    "    ],\n",
    "    [\n",
    "        [5, 6, 7, 8],\n",
    "        [50, 60, 70, 80],\n",
    "        [500, 600, 700, 800.]\n",
    "    ]\n",
    "]\n",
    "tensor_three_d = tf.constant(three_d)\n",
    "print(tensor_three_d)"
   ]
  },
  {
   "cell_type": "code",
   "execution_count": 8,
   "metadata": {},
   "outputs": [
    {
     "name": "stdout",
     "output_type": "stream",
     "text": [
      "()\n",
      "(5,)\n",
      "(3, 4)\n",
      "(2, 3, 4)\n"
     ]
    }
   ],
   "source": [
    "print(tensor_zero_d.shape)\n",
    "print(tensor_one_d.shape)\n",
    "print(tensor_two_d.shape)\n",
    "print(tensor_three_d.shape)"
   ]
  },
  {
   "cell_type": "code",
   "execution_count": 13,
   "metadata": {},
   "outputs": [
    {
     "name": "stdout",
     "output_type": "stream",
     "text": [
      "tf.Tensor(\n",
      "[[[[  1.   2.   3.   4.]\n",
      "   [ 10.  20.  30.  40.]\n",
      "   [100. 200. 300. 400.]]\n",
      "\n",
      "  [[  5.   6.   7.   8.]\n",
      "   [ 50.  60.  70.  80.]\n",
      "   [500. 600. 700. 800.]]]\n",
      "\n",
      "\n",
      " [[[ 14.   3.  34.  45.]\n",
      "   [ 10.  20.  32.  43.]\n",
      "   [100.  22. 330. 400.]]\n",
      "\n",
      "  [[  5.   6.   7.   8.]\n",
      "   [ 50.  60.   3.  80.]\n",
      "   [500. 600. 730. 820.]]]\n",
      "\n",
      "\n",
      " [[[ 14.   3.  34.  45.]\n",
      "   [ 10.  20.  32.  43.]\n",
      "   [100.  22. 330. 400.]]\n",
      "\n",
      "  [[  5.   6.   7.   8.]\n",
      "   [ 50.  60.   3.  80.]\n",
      "   [500. 600. 730. 820.]]]], shape=(3, 2, 3, 4), dtype=float32)\n"
     ]
    }
   ],
   "source": [
    "four_d = [\n",
    "    [\n",
    "        [\n",
    "            [1, 2, 3, 4],\n",
    "            [10, 20, 30, 40],\n",
    "            [100, 200, 300, 400]\n",
    "        ],\n",
    "        [\n",
    "            [5, 6, 7, 8],\n",
    "            [50, 60, 70, 80],\n",
    "            [500, 600, 700, 800]\n",
    "        ]\n",
    "    ],\n",
    "    [\n",
    "        [\n",
    "            [14, 3, 34, 45],\n",
    "            [10, 20, 32, 43],\n",
    "            [100, 22, 330, 400]\n",
    "        ],\n",
    "        [\n",
    "            [5, 6, 7, 8],\n",
    "            [50, 60, 3, 80],\n",
    "            [500, 600, 730, 820]\n",
    "        ]\n",
    "    ],\n",
    "    [\n",
    "        [\n",
    "            [14, 3, 34, 45],\n",
    "            [10, 20, 32, 43],\n",
    "            [100, 22, 330, 400]\n",
    "        ],\n",
    "        [\n",
    "            [5, 6, 7, 8],\n",
    "            [50, 60, 3, 80],\n",
    "            [500, 600, 730, 820]\n",
    "        ]\n",
    "    ],\n",
    "]\n",
    "\n",
    "tensor_four_d = tf.constant(four_d, dtype=tf.float32)\n",
    "print(tensor_four_d)"
   ]
  },
  {
   "cell_type": "code",
   "execution_count": 2,
   "metadata": {},
   "outputs": [
    {
     "name": "stdout",
     "output_type": "stream",
     "text": [
      "tf.Tensor([ True  True False], shape=(3,), dtype=bool)\n"
     ]
    }
   ],
   "source": [
    "tensor_bool = tf.constant([True, True, False])\n",
    "print(tensor_bool)"
   ]
  },
  {
   "cell_type": "code",
   "execution_count": 7,
   "metadata": {},
   "outputs": [
    {
     "name": "stdout",
     "output_type": "stream",
     "text": [
      "tf.Tensor([1. 2. 0. 4. 5.], shape=(5,), dtype=float32)\n",
      "tf.Tensor([ True  True False  True  True], shape=(5,), dtype=bool)\n"
     ]
    }
   ],
   "source": [
    "tensor_one_d = tf.constant([1, 2, 0, 4, 5], dtype=tf.float32)\n",
    "casted_tensor_one_d = tf.cast(tensor_one_d, dtype=tf.bool)\n",
    "print(tensor_one_d)\n",
    "print(casted_tensor_one_d)"
   ]
  },
  {
   "cell_type": "code",
   "execution_count": 8,
   "metadata": {},
   "outputs": [
    {
     "name": "stdout",
     "output_type": "stream",
     "text": [
      "tf.Tensor([b'Hello' b'World' b'Hi'], shape=(3,), dtype=string)\n"
     ]
    }
   ],
   "source": [
    "tensor_string = tf.constant(['Hello', 'World', 'Hi'])\n",
    "print(tensor_string)"
   ]
  },
  {
   "cell_type": "code",
   "execution_count": 10,
   "metadata": {},
   "outputs": [
    {
     "name": "stdout",
     "output_type": "stream",
     "text": [
      "tf.Tensor([1 2 3 4], shape=(4,), dtype=int32)\n"
     ]
    }
   ],
   "source": [
    "np_array = np.array([1, 2, 3, 4])\n",
    "converted_tensor = tf.convert_to_tensor(np_array)\n",
    "print(converted_tensor)"
   ]
  },
  {
   "cell_type": "code",
   "execution_count": 12,
   "metadata": {},
   "outputs": [
    {
     "name": "stdout",
     "output_type": "stream",
     "text": [
      "tf.Tensor(\n",
      "[[1. 0. 0.]\n",
      " [0. 1. 0.]\n",
      " [0. 0. 1.]], shape=(3, 3), dtype=float32)\n",
      "tf.Tensor(\n",
      "[[3. 0. 0.]\n",
      " [0. 3. 0.]\n",
      " [0. 0. 3.]], shape=(3, 3), dtype=float32)\n"
     ]
    }
   ],
   "source": [
    "eye_tensor = tf.eye(\n",
    "    num_rows=3,\n",
    "    num_columns=None,\n",
    "    batch_shape=None,\n",
    "    dtype=tf.dtypes.float32,\n",
    "    name=None\n",
    ")\n",
    "print(eye_tensor)\n",
    "print(3*eye_tensor)"
   ]
  },
  {
   "cell_type": "code",
   "execution_count": 13,
   "metadata": {},
   "outputs": [
    {
     "name": "stdout",
     "output_type": "stream",
     "text": [
      "tf.Tensor(\n",
      "[[1. 0. 0.]\n",
      " [0. 1. 0.]\n",
      " [0. 0. 1.]\n",
      " [0. 0. 0.]\n",
      " [0. 0. 0.]], shape=(5, 3), dtype=float32)\n"
     ]
    }
   ],
   "source": [
    "eye_tensor = tf.eye(\n",
    "    num_rows=5,\n",
    "    num_columns=3,\n",
    "    batch_shape=None,\n",
    "    dtype=tf.dtypes.float32,\n",
    "    name=None\n",
    ")\n",
    "print(eye_tensor)"
   ]
  },
  {
   "cell_type": "code",
   "execution_count": 16,
   "metadata": {},
   "outputs": [
    {
     "name": "stdout",
     "output_type": "stream",
     "text": [
      "tf.Tensor(\n",
      "[[[1. 0. 0. 0. 0.]\n",
      "  [0. 1. 0. 0. 0.]\n",
      "  [0. 0. 1. 0. 0.]\n",
      "  [0. 0. 0. 1. 0.]\n",
      "  [0. 0. 0. 0. 1.]]\n",
      "\n",
      " [[1. 0. 0. 0. 0.]\n",
      "  [0. 1. 0. 0. 0.]\n",
      "  [0. 0. 1. 0. 0.]\n",
      "  [0. 0. 0. 1. 0.]\n",
      "  [0. 0. 0. 0. 1.]]], shape=(2, 5, 5), dtype=float32)\n"
     ]
    }
   ],
   "source": [
    "eye_tensor = tf.eye(\n",
    "    num_rows=5,\n",
    "    num_columns=None,\n",
    "    batch_shape=[2,],\n",
    "    dtype=tf.dtypes.float32,\n",
    "    name=None\n",
    ")\n",
    "print(eye_tensor)"
   ]
  },
  {
   "cell_type": "code",
   "execution_count": 18,
   "metadata": {},
   "outputs": [
    {
     "name": "stdout",
     "output_type": "stream",
     "text": [
      "tf.Tensor(\n",
      "[[[5 5 5 5]\n",
      "  [5 5 5 5]\n",
      "  [5 5 5 5]]\n",
      "\n",
      " [[5 5 5 5]\n",
      "  [5 5 5 5]\n",
      "  [5 5 5 5]]], shape=(2, 3, 4), dtype=int32)\n"
     ]
    }
   ],
   "source": [
    "fill_tensor = tf.fill(\n",
    "    [2, 3, 4],\n",
    "    5,\n",
    "    name=None\n",
    ")\n",
    "print(fill_tensor)"
   ]
  },
  {
   "cell_type": "code",
   "execution_count": 19,
   "metadata": {},
   "outputs": [
    {
     "name": "stdout",
     "output_type": "stream",
     "text": [
      "tf.Tensor(\n",
      "[[1 1 1 1]\n",
      " [1 1 1 1]\n",
      " [1 1 1 1]], shape=(3, 4), dtype=int16)\n"
     ]
    }
   ],
   "source": [
    "ones_tensor = tf.ones(\n",
    "    [3, 4],\n",
    "    5,\n",
    "    name=None\n",
    ")\n",
    "print(ones_tensor)"
   ]
  },
  {
   "cell_type": "code",
   "execution_count": 21,
   "metadata": {},
   "outputs": [
    {
     "name": "stdout",
     "output_type": "stream",
     "text": [
      "tf.Tensor(\n",
      "[[[1 1 1 1]\n",
      "  [1 1 1 1]\n",
      "  [1 1 1 1]]\n",
      "\n",
      " [[1 1 1 1]\n",
      "  [1 1 1 1]\n",
      "  [1 1 1 1]]], shape=(2, 3, 4), dtype=int32)\n"
     ]
    }
   ],
   "source": [
    "once_like_tensor = tf.ones_like(\n",
    "    fill_tensor\n",
    ")\n",
    "print(once_like_tensor)"
   ]
  },
  {
   "cell_type": "code",
   "execution_count": 2,
   "metadata": {},
   "outputs": [
    {
     "name": "stdout",
     "output_type": "stream",
     "text": [
      "tf.Tensor(\n",
      "[[0 0 0 0]\n",
      " [0 0 0 0]\n",
      " [0 0 0 0]], shape=(3, 4), dtype=int16)\n"
     ]
    }
   ],
   "source": [
    "zeros_tensor = tf.zeros(\n",
    "    [3, 4],\n",
    "    5,\n",
    "    name=None\n",
    ")\n",
    "print(zeros_tensor)"
   ]
  },
  {
   "cell_type": "code",
   "execution_count": 4,
   "metadata": {},
   "outputs": [
    {
     "name": "stdout",
     "output_type": "stream",
     "text": [
      "(3, 4)\n",
      "tf.Tensor([3 4], shape=(2,), dtype=int32)\n"
     ]
    }
   ],
   "source": [
    "print(zeros_tensor.shape)\n",
    "print(tf.shape(zeros_tensor))"
   ]
  },
  {
   "cell_type": "code",
   "execution_count": 6,
   "metadata": {},
   "outputs": [
    {
     "name": "stdout",
     "output_type": "stream",
     "text": [
      "tf.Tensor(2, shape=(), dtype=int32)\n"
     ]
    }
   ],
   "source": [
    "print(tf.rank(zeros_tensor))"
   ]
  },
  {
   "cell_type": "code",
   "execution_count": 10,
   "metadata": {},
   "outputs": [
    {
     "name": "stdout",
     "output_type": "stream",
     "text": [
      "tf.Tensor(12, shape=(), dtype=int32)\n"
     ]
    }
   ],
   "source": [
    "print(tf.size(zeros_tensor))"
   ]
  },
  {
   "cell_type": "code",
   "execution_count": 13,
   "metadata": {},
   "outputs": [
    {
     "name": "stdout",
     "output_type": "stream",
     "text": [
      "tf.Tensor(\n",
      "[[-0.7962574   0.7524851 ]\n",
      " [ 0.33656102 -0.46227238]\n",
      " [ 0.3523811   0.9900401 ]], shape=(3, 2), dtype=float32)\n"
     ]
    }
   ],
   "source": [
    "random_tensor = tf.random.normal(\n",
    "    [3, 2],\n",
    "    mean=0.0,\n",
    "    stddev=1.0,\n",
    "    dtype=tf.dtypes.float32,\n",
    "    seed=None,\n",
    "    name=None\n",
    ")\n",
    "print(random_tensor)"
   ]
  },
  {
   "cell_type": "code",
   "execution_count": 15,
   "metadata": {},
   "outputs": [
    {
     "name": "stdout",
     "output_type": "stream",
     "text": [
      "tf.Tensor(\n",
      "[[ 99.81335 100.07506]\n",
      " [100.78943  98.89623]\n",
      " [ 99.3827   99.69994]], shape=(3, 2), dtype=float32)\n"
     ]
    }
   ],
   "source": [
    "random_tensor_normal = tf.random.normal(\n",
    "    [3, 2],\n",
    "    mean=100.0,\n",
    "    stddev=1.0,\n",
    "    dtype=tf.dtypes.float32,\n",
    "    seed=None,\n",
    "    name=None\n",
    ")\n",
    "print(random_tensor_normal)"
   ]
  },
  {
   "cell_type": "code",
   "execution_count": 16,
   "metadata": {},
   "outputs": [
    {
     "name": "stdout",
     "output_type": "stream",
     "text": [
      "tf.Tensor(\n",
      "[[0.5521672  0.22616291]\n",
      " [0.50519717 0.07761967]\n",
      " [0.94408166 0.39000118]], shape=(3, 2), dtype=float32)\n"
     ]
    }
   ],
   "source": [
    "random_tensor_uniform = tf.random.uniform(\n",
    "    [3, 2],\n",
    "    minval=0,\n",
    "    maxval=None,\n",
    "    dtype=tf.dtypes.float32,\n",
    "    seed=None,\n",
    "    name=None\n",
    ")\n",
    "print(random_tensor_uniform)"
   ]
  },
  {
   "cell_type": "code",
   "execution_count": 19,
   "metadata": {},
   "outputs": [
    {
     "name": "stdout",
     "output_type": "stream",
     "text": [
      "tf.Tensor(\n",
      "[[53 59 86 22 12]\n",
      " [11 25 18 35 47]\n",
      " [17 99  1 71 63]\n",
      " [65 14 93 92 98]\n",
      " [40 17  7 27  1]], shape=(5, 5), dtype=int32)\n"
     ]
    }
   ],
   "source": [
    "random_tensor_uniform = tf.random.uniform(\n",
    "    [5, 5],\n",
    "    minval=0,\n",
    "    maxval=100,\n",
    "    dtype=tf.dtypes.int32,\n",
    "    seed=None,\n",
    "    name=None\n",
    ")\n",
    "print(random_tensor_uniform)"
   ]
  },
  {
   "cell_type": "code",
   "execution_count": 5,
   "metadata": {},
   "outputs": [
    {
     "name": "stdout",
     "output_type": "stream",
     "text": [
      "tf.Tensor([ 1  2  3 44 55 67], shape=(6,), dtype=int32)\n",
      "tf.Tensor([ 1  2  3 44], shape=(4,), dtype=int32)\n",
      "tf.Tensor([55 67], shape=(2,), dtype=int32)\n",
      "tf.Tensor([ 3 44 55 67], shape=(4,), dtype=int32)\n",
      "tf.Tensor([ 2  3 44], shape=(3,), dtype=int32)\n",
      "tf.Tensor([ 2 44 67], shape=(3,), dtype=int32)\n"
     ]
    }
   ],
   "source": [
    "tensor_index = tf.constant([1, 2, 3, 44, 55, 67])\n",
    "print(tensor_index)\n",
    "print(tensor_index[:4])\n",
    "print(tensor_index[4:])\n",
    "print(tensor_index[2:6])\n",
    "print(tensor_index[1:-2])\n",
    "print(tensor_index[1:8:2])"
   ]
  },
  {
   "cell_type": "code",
   "execution_count": 12,
   "metadata": {},
   "outputs": [
    {
     "name": "stdout",
     "output_type": "stream",
     "text": [
      "Tensor:  tf.Tensor(\n",
      "[[29 64 40 24 70]\n",
      " [46 77 81 36 95]\n",
      " [21 76 47 16 20]\n",
      " [10 49 57 84  2]\n",
      " [73  6 30  6 14]], shape=(5, 5), dtype=int32)\n",
      "Slicing:  tf.Tensor(\n",
      "[[36 95]\n",
      " [16 20]], shape=(2, 2), dtype=int32)\n",
      "Indexing row:  tf.Tensor([46 77 81 36 95], shape=(5,), dtype=int32)\n",
      "Indexing col:  tf.Tensor([64 77 76 49  6], shape=(5,), dtype=int32)\n",
      "Spread:  tf.Tensor([64 77 76 49  6], shape=(5,), dtype=int32)\n"
     ]
    }
   ],
   "source": [
    "random_tensor_uniform = tf.random.uniform(\n",
    "    [5, 5],\n",
    "    minval=0,\n",
    "    maxval=100,\n",
    "    dtype=tf.dtypes.int32,\n",
    "    seed=None,\n",
    "    name=None\n",
    ")\n",
    "print('Tensor: ', random_tensor_uniform)\n",
    "print('Slicing: ', random_tensor_uniform[1:3, 3:])\n",
    "print('Indexing row: ', random_tensor_uniform[1,:])\n",
    "print('Indexing col: ', random_tensor_uniform[:, 1])\n",
    "print('Spread: ', random_tensor_uniform[..., 1])"
   ]
  },
  {
   "cell_type": "code",
   "execution_count": null,
   "metadata": {},
   "outputs": [],
   "source": []
  }
 ],
 "metadata": {
  "kernelspec": {
   "display_name": "Python 3",
   "language": "python",
   "name": "python3"
  },
  "language_info": {
   "codemirror_mode": {
    "name": "ipython",
    "version": 3
   },
   "file_extension": ".py",
   "mimetype": "text/x-python",
   "name": "python",
   "nbconvert_exporter": "python",
   "pygments_lexer": "ipython3",
   "version": "3.10.0"
  }
 },
 "nbformat": 4,
 "nbformat_minor": 2
}
