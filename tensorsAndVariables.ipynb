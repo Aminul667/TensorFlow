{
 "cells": [
  {
   "cell_type": "code",
   "execution_count": 9,
   "metadata": {},
   "outputs": [],
   "source": [
    "import tensorflow as tf\n",
    "import numpy as np"
   ]
  },
  {
   "cell_type": "markdown",
   "metadata": {},
   "source": [
    "## Tensors"
   ]
  },
  {
   "cell_type": "code",
   "execution_count": 2,
   "metadata": {},
   "outputs": [
    {
     "name": "stdout",
     "output_type": "stream",
     "text": [
      "tf.Tensor(10, shape=(), dtype=int32)\n"
     ]
    }
   ],
   "source": [
    "tensor_zero_d = tf.constant(10)\n",
    "print(tensor_zero_d)"
   ]
  },
  {
   "cell_type": "code",
   "execution_count": 3,
   "metadata": {},
   "outputs": [
    {
     "name": "stdout",
     "output_type": "stream",
     "text": [
      "tf.Tensor([1 2 3 4 5], shape=(5,), dtype=int32)\n"
     ]
    }
   ],
   "source": [
    "tensor_one_d = tf.constant([1, 2, 3, 4, 5])\n",
    "print(tensor_one_d)"
   ]
  },
  {
   "cell_type": "code",
   "execution_count": 5,
   "metadata": {},
   "outputs": [
    {
     "name": "stdout",
     "output_type": "stream",
     "text": [
      "tf.Tensor(\n",
      "[[  1   2   3   4]\n",
      " [ 10  20  30  40]\n",
      " [100 200 300 400]], shape=(3, 4), dtype=int32)\n"
     ]
    }
   ],
   "source": [
    "two_d = [\n",
    "    [1, 2, 3, 4],\n",
    "    [10, 20, 30, 40],\n",
    "    [100, 200, 300, 400]\n",
    "]\n",
    "tensor_two_d = tf.constant(two_d)\n",
    "print(tensor_two_d)"
   ]
  },
  {
   "cell_type": "code",
   "execution_count": 7,
   "metadata": {},
   "outputs": [
    {
     "name": "stdout",
     "output_type": "stream",
     "text": [
      "tf.Tensor(\n",
      "[[[  1.   2.   3.   4.]\n",
      "  [ 10.  20.  30.  40.]\n",
      "  [100. 200. 300. 400.]]\n",
      "\n",
      " [[  5.   6.   7.   8.]\n",
      "  [ 50.  60.  70.  80.]\n",
      "  [500. 600. 700. 800.]]], shape=(2, 3, 4), dtype=float32)\n"
     ]
    }
   ],
   "source": [
    "three_d = [\n",
    "    [\n",
    "        [1, 2, 3, 4],\n",
    "        [10, 20, 30, 40],\n",
    "        [100, 200, 300, 400]\n",
    "    ],\n",
    "    [\n",
    "        [5, 6, 7, 8],\n",
    "        [50, 60, 70, 80],\n",
    "        [500, 600, 700, 800.]\n",
    "    ]\n",
    "]\n",
    "tensor_three_d = tf.constant(three_d)\n",
    "print(tensor_three_d)"
   ]
  },
  {
   "cell_type": "code",
   "execution_count": 8,
   "metadata": {},
   "outputs": [
    {
     "name": "stdout",
     "output_type": "stream",
     "text": [
      "()\n",
      "(5,)\n",
      "(3, 4)\n",
      "(2, 3, 4)\n"
     ]
    }
   ],
   "source": [
    "print(tensor_zero_d.shape)\n",
    "print(tensor_one_d.shape)\n",
    "print(tensor_two_d.shape)\n",
    "print(tensor_three_d.shape)"
   ]
  },
  {
   "cell_type": "code",
   "execution_count": 13,
   "metadata": {},
   "outputs": [
    {
     "name": "stdout",
     "output_type": "stream",
     "text": [
      "tf.Tensor(\n",
      "[[[[  1.   2.   3.   4.]\n",
      "   [ 10.  20.  30.  40.]\n",
      "   [100. 200. 300. 400.]]\n",
      "\n",
      "  [[  5.   6.   7.   8.]\n",
      "   [ 50.  60.  70.  80.]\n",
      "   [500. 600. 700. 800.]]]\n",
      "\n",
      "\n",
      " [[[ 14.   3.  34.  45.]\n",
      "   [ 10.  20.  32.  43.]\n",
      "   [100.  22. 330. 400.]]\n",
      "\n",
      "  [[  5.   6.   7.   8.]\n",
      "   [ 50.  60.   3.  80.]\n",
      "   [500. 600. 730. 820.]]]\n",
      "\n",
      "\n",
      " [[[ 14.   3.  34.  45.]\n",
      "   [ 10.  20.  32.  43.]\n",
      "   [100.  22. 330. 400.]]\n",
      "\n",
      "  [[  5.   6.   7.   8.]\n",
      "   [ 50.  60.   3.  80.]\n",
      "   [500. 600. 730. 820.]]]], shape=(3, 2, 3, 4), dtype=float32)\n"
     ]
    }
   ],
   "source": [
    "four_d = [\n",
    "    [\n",
    "        [\n",
    "            [1, 2, 3, 4],\n",
    "            [10, 20, 30, 40],\n",
    "            [100, 200, 300, 400]\n",
    "        ],\n",
    "        [\n",
    "            [5, 6, 7, 8],\n",
    "            [50, 60, 70, 80],\n",
    "            [500, 600, 700, 800]\n",
    "        ]\n",
    "    ],\n",
    "    [\n",
    "        [\n",
    "            [14, 3, 34, 45],\n",
    "            [10, 20, 32, 43],\n",
    "            [100, 22, 330, 400]\n",
    "        ],\n",
    "        [\n",
    "            [5, 6, 7, 8],\n",
    "            [50, 60, 3, 80],\n",
    "            [500, 600, 730, 820]\n",
    "        ]\n",
    "    ],\n",
    "    [\n",
    "        [\n",
    "            [14, 3, 34, 45],\n",
    "            [10, 20, 32, 43],\n",
    "            [100, 22, 330, 400]\n",
    "        ],\n",
    "        [\n",
    "            [5, 6, 7, 8],\n",
    "            [50, 60, 3, 80],\n",
    "            [500, 600, 730, 820]\n",
    "        ]\n",
    "    ],\n",
    "]\n",
    "\n",
    "tensor_four_d = tf.constant(four_d, dtype=tf.float32)\n",
    "print(tensor_four_d)"
   ]
  },
  {
   "cell_type": "code",
   "execution_count": 2,
   "metadata": {},
   "outputs": [
    {
     "name": "stdout",
     "output_type": "stream",
     "text": [
      "tf.Tensor([ True  True False], shape=(3,), dtype=bool)\n"
     ]
    }
   ],
   "source": [
    "tensor_bool = tf.constant([True, True, False])\n",
    "print(tensor_bool)"
   ]
  },
  {
   "cell_type": "code",
   "execution_count": 7,
   "metadata": {},
   "outputs": [
    {
     "name": "stdout",
     "output_type": "stream",
     "text": [
      "tf.Tensor([1. 2. 0. 4. 5.], shape=(5,), dtype=float32)\n",
      "tf.Tensor([ True  True False  True  True], shape=(5,), dtype=bool)\n"
     ]
    }
   ],
   "source": [
    "tensor_one_d = tf.constant([1, 2, 0, 4, 5], dtype=tf.float32)\n",
    "casted_tensor_one_d = tf.cast(tensor_one_d, dtype=tf.bool)\n",
    "print(tensor_one_d)\n",
    "print(casted_tensor_one_d)"
   ]
  },
  {
   "cell_type": "code",
   "execution_count": 8,
   "metadata": {},
   "outputs": [
    {
     "name": "stdout",
     "output_type": "stream",
     "text": [
      "tf.Tensor([b'Hello' b'World' b'Hi'], shape=(3,), dtype=string)\n"
     ]
    }
   ],
   "source": [
    "tensor_string = tf.constant(['Hello', 'World', 'Hi'])\n",
    "print(tensor_string)"
   ]
  },
  {
   "cell_type": "code",
   "execution_count": 10,
   "metadata": {},
   "outputs": [
    {
     "name": "stdout",
     "output_type": "stream",
     "text": [
      "tf.Tensor([1 2 3 4], shape=(4,), dtype=int32)\n"
     ]
    }
   ],
   "source": [
    "np_array = np.array([1, 2, 3, 4])\n",
    "converted_tensor = tf.convert_to_tensor(np_array)\n",
    "print(converted_tensor)"
   ]
  },
  {
   "cell_type": "code",
   "execution_count": 12,
   "metadata": {},
   "outputs": [
    {
     "name": "stdout",
     "output_type": "stream",
     "text": [
      "tf.Tensor(\n",
      "[[1. 0. 0.]\n",
      " [0. 1. 0.]\n",
      " [0. 0. 1.]], shape=(3, 3), dtype=float32)\n",
      "tf.Tensor(\n",
      "[[3. 0. 0.]\n",
      " [0. 3. 0.]\n",
      " [0. 0. 3.]], shape=(3, 3), dtype=float32)\n"
     ]
    }
   ],
   "source": [
    "eye_tensor = tf.eye(\n",
    "    num_rows=3,\n",
    "    num_columns=None,\n",
    "    batch_shape=None,\n",
    "    dtype=tf.dtypes.float32,\n",
    "    name=None\n",
    ")\n",
    "print(eye_tensor)\n",
    "print(3*eye_tensor)"
   ]
  },
  {
   "cell_type": "code",
   "execution_count": 13,
   "metadata": {},
   "outputs": [
    {
     "name": "stdout",
     "output_type": "stream",
     "text": [
      "tf.Tensor(\n",
      "[[1. 0. 0.]\n",
      " [0. 1. 0.]\n",
      " [0. 0. 1.]\n",
      " [0. 0. 0.]\n",
      " [0. 0. 0.]], shape=(5, 3), dtype=float32)\n"
     ]
    }
   ],
   "source": [
    "eye_tensor = tf.eye(\n",
    "    num_rows=5,\n",
    "    num_columns=3,\n",
    "    batch_shape=None,\n",
    "    dtype=tf.dtypes.float32,\n",
    "    name=None\n",
    ")\n",
    "print(eye_tensor)"
   ]
  },
  {
   "cell_type": "code",
   "execution_count": 16,
   "metadata": {},
   "outputs": [
    {
     "name": "stdout",
     "output_type": "stream",
     "text": [
      "tf.Tensor(\n",
      "[[[1. 0. 0. 0. 0.]\n",
      "  [0. 1. 0. 0. 0.]\n",
      "  [0. 0. 1. 0. 0.]\n",
      "  [0. 0. 0. 1. 0.]\n",
      "  [0. 0. 0. 0. 1.]]\n",
      "\n",
      " [[1. 0. 0. 0. 0.]\n",
      "  [0. 1. 0. 0. 0.]\n",
      "  [0. 0. 1. 0. 0.]\n",
      "  [0. 0. 0. 1. 0.]\n",
      "  [0. 0. 0. 0. 1.]]], shape=(2, 5, 5), dtype=float32)\n"
     ]
    }
   ],
   "source": [
    "eye_tensor = tf.eye(\n",
    "    num_rows=5,\n",
    "    num_columns=None,\n",
    "    batch_shape=[2,],\n",
    "    dtype=tf.dtypes.float32,\n",
    "    name=None\n",
    ")\n",
    "print(eye_tensor)"
   ]
  },
  {
   "cell_type": "code",
   "execution_count": null,
   "metadata": {},
   "outputs": [],
   "source": []
  }
 ],
 "metadata": {
  "kernelspec": {
   "display_name": "Python 3",
   "language": "python",
   "name": "python3"
  },
  "language_info": {
   "codemirror_mode": {
    "name": "ipython",
    "version": 3
   },
   "file_extension": ".py",
   "mimetype": "text/x-python",
   "name": "python",
   "nbconvert_exporter": "python",
   "pygments_lexer": "ipython3",
   "version": "3.10.0"
  }
 },
 "nbformat": 4,
 "nbformat_minor": 2
}
