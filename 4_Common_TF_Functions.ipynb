{
 "cells": [
  {
   "cell_type": "code",
   "execution_count": 1,
   "metadata": {},
   "outputs": [
    {
     "name": "stdout",
     "output_type": "stream",
     "text": [
      "WARNING:tensorflow:From c:\\Users\\Rahat\\AppData\\Local\\Programs\\Python\\Python310\\lib\\site-packages\\keras\\src\\losses.py:2976: The name tf.losses.sparse_softmax_cross_entropy is deprecated. Please use tf.compat.v1.losses.sparse_softmax_cross_entropy instead.\n",
      "\n"
     ]
    }
   ],
   "source": [
    "import tensorflow as tf "
   ]
  },
  {
   "cell_type": "markdown",
   "metadata": {},
   "source": [
    "## Common TensorFlow Function"
   ]
  },
  {
   "cell_type": "code",
   "execution_count": 8,
   "metadata": {},
   "outputs": [
    {
     "name": "stdout",
     "output_type": "stream",
     "text": [
      "(4,)\n",
      "tf.Tensor([[1 2 3 4]], shape=(1, 4), dtype=int32)\n",
      "(1, 4)\n"
     ]
    }
   ],
   "source": [
    "x = tf.constant([1, 2, 3 ,4])\n",
    "x_expand= tf.expand_dims(x, axis=0) # axis can be a number based on the dimension of x\n",
    "\n",
    "print(x.shape)\n",
    "print(x_expand)\n",
    "print(x_expand.shape)\n"
   ]
  },
  {
   "cell_type": "code",
   "execution_count": 9,
   "metadata": {},
   "outputs": [
    {
     "name": "stdout",
     "output_type": "stream",
     "text": [
      "tf.Tensor([1 2 3 4], shape=(4,), dtype=int32)\n",
      "(4,)\n"
     ]
    }
   ],
   "source": [
    "x_squeeze =tf.squeeze(x_expand, axis=0)\n",
    "print(x_squeeze) \n",
    "print(x_squeeze.shape) "
   ]
  },
  {
   "cell_type": "code",
   "execution_count": 12,
   "metadata": {},
   "outputs": [
    {
     "name": "stdout",
     "output_type": "stream",
     "text": [
      "tf.Tensor(\n",
      "[[[1 2]\n",
      "  [3 4]]\n",
      "\n",
      " [[5 6]\n",
      "  [7 8]]], shape=(2, 2, 2), dtype=int32)\n",
      "(8,)\n",
      "(2, 2, 2)\n"
     ]
    }
   ],
   "source": [
    "tensor_reshape = tf.constant([1, 2, 3, 4, 5, 6, 7, 8])\n",
    "reshaped_tensor = tf.reshape(tensor_reshape, [2, 2, 2])\n",
    "print(reshaped_tensor)\n",
    "print(tensor_reshape.shape)\n",
    "print(reshaped_tensor.shape)"
   ]
  },
  {
   "cell_type": "code",
   "execution_count": 13,
   "metadata": {},
   "outputs": [
    {
     "name": "stdout",
     "output_type": "stream",
     "text": [
      "tf.Tensor(\n",
      "[[ 1  2  3]\n",
      " [10 20 30]\n",
      " [ 3  4  5]\n",
      " [30 20 50]], shape=(4, 3), dtype=int32)\n"
     ]
    }
   ],
   "source": [
    "t1 = tf.constant(\n",
    "    [\n",
    "        [1, 2, 3],\n",
    "        [10, 20, 30]\n",
    "    ]\n",
    ")\n",
    "t2 = tf.constant(\n",
    "    [\n",
    "        [3, 4, 5],\n",
    "        [30, 20, 50]\n",
    "    ]\n",
    ")\n",
    "\n",
    "concatenate = tf.concat([t1, t2], axis=0) # axis = 0 means across rows\n",
    "print(concatenate)"
   ]
  },
  {
   "cell_type": "code",
   "execution_count": null,
   "metadata": {},
   "outputs": [],
   "source": []
  }
 ],
 "metadata": {
  "kernelspec": {
   "display_name": "Python 3",
   "language": "python",
   "name": "python3"
  },
  "language_info": {
   "codemirror_mode": {
    "name": "ipython",
    "version": 3
   },
   "file_extension": ".py",
   "mimetype": "text/x-python",
   "name": "python",
   "nbconvert_exporter": "python",
   "pygments_lexer": "ipython3",
   "version": "3.10.0"
  }
 },
 "nbformat": 4,
 "nbformat_minor": 2
}
