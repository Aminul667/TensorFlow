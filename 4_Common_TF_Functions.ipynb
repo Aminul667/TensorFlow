{
 "cells": [
  {
   "cell_type": "code",
   "execution_count": 2,
   "metadata": {},
   "outputs": [],
   "source": [
    "import tensorflow as tf "
   ]
  },
  {
   "cell_type": "markdown",
   "metadata": {},
   "source": [
    "## Common TensorFlow Function"
   ]
  },
  {
   "cell_type": "code",
   "execution_count": 8,
   "metadata": {},
   "outputs": [
    {
     "name": "stdout",
     "output_type": "stream",
     "text": [
      "(4,)\n",
      "tf.Tensor([[1 2 3 4]], shape=(1, 4), dtype=int32)\n",
      "(1, 4)\n"
     ]
    }
   ],
   "source": [
    "x = tf.constant([1, 2, 3 ,4])\n",
    "x_expand= tf.expand_dims(x, axis=0) # axis can be a number based on the dimension of x\n",
    "\n",
    "print(x.shape)\n",
    "print(x_expand)\n",
    "print(x_expand.shape)\n"
   ]
  },
  {
   "cell_type": "code",
   "execution_count": 9,
   "metadata": {},
   "outputs": [
    {
     "name": "stdout",
     "output_type": "stream",
     "text": [
      "tf.Tensor([1 2 3 4], shape=(4,), dtype=int32)\n",
      "(4,)\n"
     ]
    }
   ],
   "source": [
    "x_squeeze =tf.squeeze(x_expand, axis=0)\n",
    "print(x_squeeze) \n",
    "print(x_squeeze.shape) "
   ]
  },
  {
   "cell_type": "code",
   "execution_count": 12,
   "metadata": {},
   "outputs": [
    {
     "name": "stdout",
     "output_type": "stream",
     "text": [
      "tf.Tensor(\n",
      "[[[1 2]\n",
      "  [3 4]]\n",
      "\n",
      " [[5 6]\n",
      "  [7 8]]], shape=(2, 2, 2), dtype=int32)\n",
      "(8,)\n",
      "(2, 2, 2)\n"
     ]
    }
   ],
   "source": [
    "tensor_reshape = tf.constant([1, 2, 3, 4, 5, 6, 7, 8])\n",
    "reshaped_tensor = tf.reshape(tensor_reshape, [2, 2, 2])\n",
    "print(reshaped_tensor)\n",
    "print(tensor_reshape.shape)\n",
    "print(reshaped_tensor.shape)"
   ]
  },
  {
   "cell_type": "code",
   "execution_count": 14,
   "metadata": {},
   "outputs": [
    {
     "name": "stdout",
     "output_type": "stream",
     "text": [
      "tf.Tensor(\n",
      "[[ 1  2  3]\n",
      " [10 20 30]\n",
      " [ 3  4  5]\n",
      " [30 20 50]], shape=(4, 3), dtype=int32)\n",
      "tf.Tensor(\n",
      "[[ 1  2  3  3  4  5]\n",
      " [10 20 30 30 20 50]], shape=(2, 6), dtype=int32)\n"
     ]
    }
   ],
   "source": [
    "t1 = tf.constant(\n",
    "    [\n",
    "        [1, 2, 3],\n",
    "        [10, 20, 30]\n",
    "    ]\n",
    ")\n",
    "t2 = tf.constant(\n",
    "    [\n",
    "        [3, 4, 5],\n",
    "        [30, 20, 50]\n",
    "    ]\n",
    ")\n",
    "\n",
    "concatenate_rows = tf.concat([t1, t2], axis=0) # axis = 0 means across rows\n",
    "concatenate_cols = tf.concat([t1, t2], axis=1) # axis = 0 means across cols\n",
    "\n",
    "print(concatenate_rows)\n",
    "print(concatenate_cols)"
   ]
  },
  {
   "cell_type": "code",
   "execution_count": 15,
   "metadata": {},
   "outputs": [],
   "source": [
    "# practice and see documentation for stack"
   ]
  },
  {
   "cell_type": "code",
   "execution_count": 18,
   "metadata": {},
   "outputs": [
    {
     "name": "stdout",
     "output_type": "stream",
     "text": [
      "Padding Constant\n",
      "[[0 0 0 0 0 0 0]\n",
      " [0 0 1 2 3 0 0]\n",
      " [0 0 4 5 6 0 0]\n",
      " [0 0 0 0 0 0 0]]\n",
      "\n",
      "Padding Reflect\n",
      "[[6 5 4 5 6 5 4]\n",
      " [3 2 1 2 3 2 1]\n",
      " [6 5 4 5 6 5 4]\n",
      " [3 2 1 2 3 2 1]]\n",
      "\n",
      "Padding Symmetric\n",
      "[[2 1 1 2 3 3 2]\n",
      " [2 1 1 2 3 3 2]\n",
      " [5 4 4 5 6 6 5]\n",
      " [5 4 4 5 6 6 5]]\n",
      "\n"
     ]
    }
   ],
   "source": [
    "t = tf.constant(\n",
    "    [\n",
    "        [1, 2, 3],\n",
    "        [4, 5, 6]\n",
    "    ]\n",
    ")\n",
    "paddings = tf.constant(\n",
    "    [\n",
    "        [1, 1,],\n",
    "        [2, 2]\n",
    "    ]\n",
    ")\n",
    "\n",
    "padding_constant = tf.pad(t, paddings, \"CONSTANT\")\n",
    "padding_reflect = tf.pad(t, paddings, \"REFLECT\")\n",
    "padding_symmetric = tf.pad(t, paddings, \"SYMMETRIC\")\n",
    "\n",
    "print(f'Padding Constant\\n{padding_constant}\\n')\n",
    "print(f'Padding Reflect\\n{padding_reflect}\\n')\n",
    "print(f'Padding Symmetric\\n{padding_symmetric}\\n')"
   ]
  },
  {
   "cell_type": "code",
   "execution_count": 14,
   "metadata": {},
   "outputs": [
    {
     "data": {
      "text/plain": [
       "<tf.Tensor: shape=(3,), dtype=string, numpy=array([b'p1', b'p2', b'p3'], dtype=object)>"
      ]
     },
     "execution_count": 14,
     "metadata": {},
     "output_type": "execute_result"
    }
   ],
   "source": [
    "params = tf.constant(['p0', 'p1', 'p2', 'p3', 'p4', 'p5'])\n",
    "params[1:4]"
   ]
  },
  {
   "cell_type": "code",
   "execution_count": 13,
   "metadata": {},
   "outputs": [
    {
     "data": {
      "text/plain": [
       "<tf.Tensor: shape=(3,), dtype=string, numpy=array([b'p1', b'p2', b'p3'], dtype=object)>"
      ]
     },
     "execution_count": 13,
     "metadata": {},
     "output_type": "execute_result"
    }
   ],
   "source": [
    "tf.gather(params, [1, 2, 3])"
   ]
  },
  {
   "cell_type": "code",
   "execution_count": 15,
   "metadata": {},
   "outputs": [
    {
     "data": {
      "text/plain": [
       "<tf.Tensor: shape=(3,), dtype=string, numpy=array([b'p1', b'p2', b'p3'], dtype=object)>"
      ]
     },
     "execution_count": 15,
     "metadata": {},
     "output_type": "execute_result"
    }
   ],
   "source": [
    "tf.gather(params, tf.range(1, 4))"
   ]
  },
  {
   "cell_type": "code",
   "execution_count": null,
   "metadata": {},
   "outputs": [],
   "source": []
  }
 ],
 "metadata": {
  "kernelspec": {
   "display_name": "Python 3",
   "language": "python",
   "name": "python3"
  },
  "language_info": {
   "codemirror_mode": {
    "name": "ipython",
    "version": 3
   },
   "file_extension": ".py",
   "mimetype": "text/x-python",
   "name": "python",
   "nbconvert_exporter": "python",
   "pygments_lexer": "ipython3",
   "version": "3.10.0"
  }
 },
 "nbformat": 4,
 "nbformat_minor": 2
}
